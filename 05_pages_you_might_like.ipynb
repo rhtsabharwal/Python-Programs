{
 "cells": [
  {
   "cell_type": "code",
   "execution_count": 26,
   "id": "48aed7d4-bd50-47e5-9856-feaae79251f5",
   "metadata": {},
   "outputs": [
    {
     "name": "stdout",
     "output_type": "stream",
     "text": [
      "pages Which you might like for user1:[103, 105, 107, 104, 106, 108, 109, 110, 111, 112, 113, 114, 115, 116, 117, 118, 119, 120, 121, 122, 123, 124, 125, 126, 127]\n"
     ]
    }
   ],
   "source": [
    "import json\n",
    "\n",
    "#funtion to load the json data\n",
    "def load_data(filename):\n",
    "    with open(filename,\"r\") as file:\n",
    "        return json.load(file)\n",
    "\n",
    "#function to find pages a user might like\n",
    "\n",
    "def find_pages_you_might_like(user_id, data):\n",
    "    #dictonary to store user interaction with pages\n",
    "    user_pages ={}\n",
    "    #populate the dictonary\n",
    "    for user in data['users']:\n",
    "        user_pages[user['id']]=set(user['liked_pages'])\n",
    "\n",
    "    #if user not found return empty list\n",
    "    if user_id not in user_pages:\n",
    "        return[]\n",
    "\n",
    "    user_liked_pages=user_pages[user_id]\n",
    "        \n",
    "    #dictonary for page suggestion\n",
    "    page_suggestion={}\n",
    "    for other_user, pages in user_pages.items():\n",
    "        if other_user!= user_id:\n",
    "            shared_pages=user_liked_pages.intersection(pages)\n",
    "            for page in pages:\n",
    "                if page not in user_liked_pages:\n",
    "                    page_suggestion[page]=page_suggestion.get(page,0)+len(shared_pages)\n",
    "\n",
    "    # Sort recommended pages based on the number of shared interactions\n",
    "    sorted_pages = sorted(page_suggestion.items() ,key=lambda x:x[1],reverse=True)\n",
    "    return[page_id for page_id, _ in sorted_pages]\n",
    "\n",
    "data=load_data(\"data6.json\")\n",
    "user_id=1\n",
    "page_recommendation=find_pages_you_might_like(user_id,data)\n",
    "print(f\"pages Which you might like for user{user_id}:{page_recommendation}\")\n",
    "        \n",
    "                \n",
    "        \n",
    "        \n",
    "    \n",
    "            \n"
   ]
  },
  {
   "cell_type": "code",
   "execution_count": null,
   "id": "43709662-b815-4a7c-b072-a895cbfd2378",
   "metadata": {},
   "outputs": [],
   "source": []
  }
 ],
 "metadata": {
  "kernelspec": {
   "display_name": "Python [conda env:base] *",
   "language": "python",
   "name": "conda-base-py"
  },
  "language_info": {
   "codemirror_mode": {
    "name": "ipython",
    "version": 3
   },
   "file_extension": ".py",
   "mimetype": "text/x-python",
   "name": "python",
   "nbconvert_exporter": "python",
   "pygments_lexer": "ipython3",
   "version": "3.12.7"
  }
 },
 "nbformat": 4,
 "nbformat_minor": 5
}
