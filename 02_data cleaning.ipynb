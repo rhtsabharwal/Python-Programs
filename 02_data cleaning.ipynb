{
 "cells": [
  {
   "cell_type": "code",
   "execution_count": 26,
   "id": "a40e864d-40b6-43aa-a4d4-009429ef3c07",
   "metadata": {
    "panel-layout": {
     "height": 0,
     "visible": true,
     "width": 100
    }
   },
   "outputs": [
    {
     "name": "stdout",
     "output_type": "stream",
     "text": [
      "Before cleaning: 500\n",
      "Before cleaning: 10\n",
      "data has been cleaned successfully\n",
      "After cleaning: 469\n",
      "After cleaning: 8\n"
     ]
    }
   ],
   "source": [
    "import json\n",
    "\n",
    "def clean_data(data):\n",
    "    #remove user with missing name\n",
    "    data[\"users\"]=[user for user in data[\"users\"] if user[\"name\"].strip()]\n",
    "\n",
    "    #remove duplicate friend\n",
    "    for user in data[\"users\"]:\n",
    "        user['friends']= list(set(user['friends'])) \n",
    "    #remove inactive users\n",
    "    data[\"users\"]= [user for user in data['users'] if user['friends'] or user['liked_pages']]\n",
    "\n",
    "    #remove duplicate pages\n",
    "    unique_pages={}\n",
    "    for page in data[\"pages\"]:\n",
    "        unique_pages[page['id']]=page\n",
    "        data['pages']=list(unique_pages.values())\n",
    "    \n",
    "    return data\n",
    "    \n",
    "\n",
    "#Load the Data\n",
    "data= json.load(open(\"data5.json\"))\n",
    "print(\"Before cleaning:\", len(data[\"users\"]))\n",
    "print(\"Before cleaning:\", len(data[\"pages\"]))\n",
    "data= clean_data(data)\n",
    "json.dump(data, open(\"clean_data2.json\", \"w\"), indent=4)\n",
    "print(\"data has been cleaned successfully\")\n",
    "print(\"After cleaning:\", len(data[\"users\"]))\n",
    "print(\"After cleaning:\", len(data[\"pages\"]))\n"
   ]
  },
  {
   "cell_type": "code",
   "execution_count": null,
   "id": "0cd3bf83-5f87-4ed2-9988-e9d3d4b3bed4",
   "metadata": {},
   "outputs": [],
   "source": []
  },
  {
   "cell_type": "code",
   "execution_count": null,
   "id": "918270ad-297a-4115-bd03-1be22980af2b",
   "metadata": {},
   "outputs": [],
   "source": []
  }
 ],
 "metadata": {
  "kernelspec": {
   "display_name": "Python [conda env:base] *",
   "language": "python",
   "name": "conda-base-py"
  },
  "language_info": {
   "codemirror_mode": {
    "name": "ipython",
    "version": 3
   },
   "file_extension": ".py",
   "mimetype": "text/x-python",
   "name": "python",
   "nbconvert_exporter": "python",
   "pygments_lexer": "ipython3",
   "version": "3.12.7"
  },
  "panel-cell-order": [
   "a40e864d-40b6-43aa-a4d4-009429ef3c07"
  ]
 },
 "nbformat": 4,
 "nbformat_minor": 5
}
